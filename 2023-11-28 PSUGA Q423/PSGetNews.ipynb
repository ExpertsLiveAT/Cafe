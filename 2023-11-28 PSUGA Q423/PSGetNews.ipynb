{
 "cells": [
  {
   "cell_type": "markdown",
   "metadata": {},
   "source": [
    "# PowerShellGet News\n",
    "\n",
    "Release Microsoft.PowerShell.PSResourceGet im November, aktuell Version 1.0.1\n",
    "\n",
    "## Geschichte von PowerShellGet\n",
    "\n",
    "- v1: Wurde in Windows initial ausgeliefert\n",
    "- v2: Das was wir alle aktuell nutzen\n",
    "- v3: kompletter rewrite ==> PSResourceget\n",
    "\n",
    "## Warum rewrite ?\n",
    "\n",
    "- Besserer Package Manager\n",
    "- Mangelhaftes Design und Bugs\n",
    "- Wartung der Codebase\n",
    "\n",
    "## Was ist neu / anders ?\n",
    "\n",
    "### Neuer Modulname\n",
    "\n",
    "PowerShellGet ==> Microsoft.PowerShell.PSResourceGet\n",
    "\n",
    "### Neue Befehlsnamen\n",
    "\n",
    "*-Module/Script/DSC ==> *-PSResource"
   ]
  },
  {
   "cell_type": "markdown",
   "metadata": {},
   "source": [
    "Bis jetzt"
   ]
  },
  {
   "cell_type": "code",
   "execution_count": 15,
   "metadata": {
    "dotnet_interactive": {
     "language": "pwsh"
    },
    "polyglot_notebook": {
     "kernelName": "pwsh"
    }
   },
   "outputs": [
    {
     "name": "stdout",
     "output_type": "stream",
     "text": [
      "\n",
      "\u001b[32;1mCommandType     Name                                               Version    Source\u001b[0m\n",
      "\u001b[32;1m-----------     ----                                               -------    ------\u001b[0m\n",
      "Function        Find-Command                                       2.2.3      PowerShellGet\n",
      "Function        Find-DscResource                                   2.2.3      PowerShellGet\n",
      "Function        Find-Module                                        2.2.3      PowerShellGet\n",
      "Function        Find-RoleCapability                                2.2.3      PowerShellGet\n",
      "Function        Find-Script                                        2.2.3      PowerShellGet\n",
      "Function        Get-CredsFromCredentialProvider                    2.2.3      PowerShellGet\n",
      "Function        Get-InstalledModule                                2.2.3      PowerShellGet\n",
      "Function        Get-InstalledScript                                2.2.3      PowerShellGet\n",
      "Function        Get-PSRepository                                   2.2.3      PowerShellGet\n",
      "Function        Install-Module                                     2.2.3      PowerShellGet\n",
      "Function        Install-Script                                     2.2.3      PowerShellGet\n",
      "Function        New-ScriptFileInfo                                 2.2.3      PowerShellGet\n",
      "Function        Publish-Module                                     2.2.3      PowerShellGet\n",
      "Function        Publish-Script                                     2.2.3      PowerShellGet\n",
      "Function        Register-PSRepository                              2.2.3      PowerShellGet\n",
      "Function        Save-Module                                        2.2.3      PowerShellGet\n",
      "Function        Save-Script                                        2.2.3      PowerShellGet\n",
      "Function        Set-PSRepository                                   2.2.3      PowerShellGet\n",
      "Function        Test-ScriptFileInfo                                2.2.3      PowerShellGet\n",
      "Function        Uninstall-Module                                   2.2.3      PowerShellGet\n",
      "Function        Uninstall-Script                                   2.2.3      PowerShellGet\n",
      "Function        Unregister-PSRepository                            2.2.3      PowerShellGet\n",
      "Function        Update-Module                                      2.2.3      PowerShellGet\n",
      "Function        Update-ModuleManifest                              2.2.3      PowerShellGet\n",
      "Function        Update-Script                                      2.2.3      PowerShellGet\n",
      "Function        Update-ScriptFileInfo                              2.2.3      PowerShellGet\n",
      "\n"
     ]
    }
   ],
   "source": [
    "Get-Command -Module PowerShellGet"
   ]
  },
  {
   "cell_type": "markdown",
   "metadata": {},
   "source": [
    "Ab PSResourceGet"
   ]
  },
  {
   "cell_type": "code",
   "execution_count": 16,
   "metadata": {
    "dotnet_interactive": {
     "language": "pwsh"
    },
    "polyglot_notebook": {
     "kernelName": "pwsh"
    }
   },
   "outputs": [
    {
     "name": "stdout",
     "output_type": "stream",
     "text": [
      "\n",
      "\u001b[32;1mCommandType     Name                                               Version    Source\u001b[0m\n",
      "\u001b[32;1m-----------     ----                                               -------    ------\u001b[0m\n",
      "Alias           Get-PSResource                                     1.0.1      Microsoft.PowerSHell…\n",
      "Function        Import-PSGetRepository                             1.0.1      Microsoft.PowerSHell…\n",
      "Cmdlet          Find-PSResource                                    1.0.1      Microsoft.PowerSHell…\n",
      "Cmdlet          Get-InstalledPSResource                            1.0.1      Microsoft.PowerSHell…\n",
      "Cmdlet          Get-PSResourceRepository                           1.0.1      Microsoft.PowerSHell…\n",
      "Cmdlet          Get-PSScriptFileInfo                               1.0.1      Microsoft.PowerSHell…\n",
      "Cmdlet          Install-PSResource                                 1.0.1      Microsoft.PowerSHell…\n",
      "Cmdlet          New-PSScriptFileInfo                               1.0.1      Microsoft.PowerSHell…\n",
      "Cmdlet          Publish-PSResource                                 1.0.1      Microsoft.PowerSHell…\n",
      "Cmdlet          Register-PSResourceRepository                      1.0.1      Microsoft.PowerSHell…\n",
      "Cmdlet          Save-PSResource                                    1.0.1      Microsoft.PowerSHell…\n",
      "Cmdlet          Set-PSResourceRepository                           1.0.1      Microsoft.PowerSHell…\n",
      "Cmdlet          Test-PSScriptFileInfo                              1.0.1      Microsoft.PowerSHell…\n",
      "Cmdlet          Uninstall-PSResource                               1.0.1      Microsoft.PowerSHell…\n",
      "Cmdlet          Unregister-PSResourceRepository                    1.0.1      Microsoft.PowerSHell…\n",
      "Cmdlet          Update-PSModuleManifest                            1.0.1      Microsoft.PowerSHell…\n",
      "Cmdlet          Update-PSResource                                  1.0.1      Microsoft.PowerSHell…\n",
      "Cmdlet          Update-PSScriptFileInfo                            1.0.1      Microsoft.PowerSHell…\n",
      "\n"
     ]
    }
   ],
   "source": [
    "Get-Command -Module Microsoft.PowerShell.PSResourceGet"
   ]
  },
  {
   "cell_type": "markdown",
   "metadata": {},
   "source": [
    "### PSResourceGet verwaltet \"PSResources\"\n",
    "\n",
    "Install/Find/Update/Get/Save/Publish-PSResource (Module, Scripts, DSC Resourcen, ...)"
   ]
  },
  {
   "cell_type": "code",
   "execution_count": 17,
   "metadata": {
    "dotnet_interactive": {
     "language": "pwsh"
    },
    "polyglot_notebook": {
     "kernelName": "pwsh"
    }
   },
   "outputs": [
    {
     "name": "stdout",
     "output_type": "stream",
     "text": [
      "\n",
      "\u001b[32;1mName                                                 Version    Type\u001b[0m\n",
      "\u001b[32;1m----                                                 -------    ----\u001b[0m\n",
      "xPrinterManagement                                   1.0.0.2  Module\n",
      "xPrinter                                             1.0.0.1  Module\n",
      "xCertThumbprintKeyVault                              1.1      Module\n",
      "xCertThumbprint                                      1.0      Module\n",
      "WSManListener_HTTPS_WithThumbprintAndHostname_Config 1.0.0    Script\n",
      "WSManListener_HTTPS_WithThumbprint_Config            1.0.0    Script\n",
      "UniversalPrintManagement                             1.13.0   Module\n",
      "SpecPrinters                                         1.0.2    Module\n",
      "SMBBlueprint                                         8.2.0.3  Module\n",
      "QlikNPrinting-CLI                                    1.0.0.10 Module\n",
      "\n"
     ]
    }
   ],
   "source": [
    "Find-PSResource '*print*' |select-object -first 10|select-Object Name,version,Type"
   ]
  },
  {
   "cell_type": "markdown",
   "metadata": {},
   "source": [
    "Nun auch Ausgabe der Eigenschaft \"Type\""
   ]
  },
  {
   "cell_type": "code",
   "execution_count": 18,
   "metadata": {
    "dotnet_interactive": {
     "language": "pwsh"
    },
    "polyglot_notebook": {
     "kernelName": "pwsh"
    }
   },
   "outputs": [
    {
     "name": "stdout",
     "output_type": "stream",
     "text": [
      "\n",
      "\u001b[32;1mCount Name                      Group\u001b[0m\n",
      "\u001b[32;1m----- ----                      -----\u001b[0m\n",
      "   25 Module                    {@{Name=xPrinterManagement; Type=Module}, @{Name=xPrinter; Type=Mo…\n",
      "   12 Script                    {@{Name=WSManListener_HTTPS_WithThumbprintAndHostname_Config; Type…\n",
      "\n"
     ]
    }
   ],
   "source": [
    "Find-PSResource '*print*' |select-Object Name,Type |group-object type"
   ]
  },
  {
   "cell_type": "markdown",
   "metadata": {},
   "source": [
    "### Install-PSResource Änderungen\n",
    "\n",
    "#### Versionsmanagement\n",
    "\n",
    "Statt \n",
    "\n",
    "- -Minimumversion\n",
    "- -Maximumversion\n",
    "- -Requiredversion\n",
    "\n",
    "Nun:\n",
    "\n",
    "- -Version\n",
    "\n",
    "#### Prerelease management\n",
    "\n",
    "Statt -allowprerelease => -prerelease\n",
    "\n",
    "#### Temporarypath\n",
    "\n",
    "Damit kann man eine Resource in einen temporären Pfad installieren. Weiterer Anwendungsfall sind Home-Verzeichnisse auf Fileservern.\n",
    "\n",
    "#### TrustedRepository switch\n",
    "\n",
    "Mit -trustedrepository kann man sofort installieren ohne vorher das repo zu trusten bzw. Y/N Frage.\n",
    "\n",
    "#### -Reinstall switch\n",
    "\n",
    "Installiert die PSResource neu.\n",
    "\n",
    "#### -Clobber statt -AllowCLobber\n",
    "\n",
    "Logik hat sich umgedreht\n",
    "\n",
    "#### -SkipDependencyCheck\n",
    "\n",
    "Abhängigkeiten nicht berücksichtigen.\n",
    "\n",
    "#### -SkipPublishecheck entfernet wird, -Authenticode\n",
    "\n",
    "-Authenticode validiert die Code Signatur der PSResource\n",
    "\n",
    "#### Untertützte Repositories\n",
    "\n",
    "Existierende:\n",
    "\n",
    "* NuGet Server Feeds\n",
    "* Azure Artifacts\n",
    "* Artifactory\n",
    "* File-Share based\n",
    "\n",
    "Neue:\n",
    "\n",
    "* NuGet.Org\n",
    "* GitHub Packages\n",
    "* myGet.org\n",
    "\n",
    "#### NEW ! Credential Pesistence\n",
    "\n",
    "Anmeldedaten an ein Repository werden in Secretsmanagement gespreichert.\n",
    "\n",
    "Set-PSRepository -Name XYZ -CredentialInfo @{VaultName: \"azKV\"; Secretname = \"mycreds\"}\n",
    "\n",
    "#### NEW ! Repositories haben jetzt ein Priorität\n",
    "\n",
    "Für Suche und Installationsoder\n"
   ]
  },
  {
   "cell_type": "code",
   "execution_count": 19,
   "metadata": {
    "dotnet_interactive": {
     "language": "pwsh"
    },
    "polyglot_notebook": {
     "kernelName": "pwsh"
    }
   },
   "outputs": [
    {
     "name": "stdout",
     "output_type": "stream",
     "text": [
      "\n",
      "\u001b[32;1mName           : \u001b[0mPSGallery\n",
      "\u001b[32;1mUri            : \u001b[0mhttps://www.powershellgallery.com/api/v2\n",
      "\u001b[32;1mTrusted        : \u001b[0mFalse\n",
      "\u001b[32;1mPriority       : \u001b[0m50\n",
      "\u001b[32;1mCredentialInfo : \u001b[0m\n",
      "\u001b[32;1mApiVersion     : \u001b[0mv2\n",
      "\n",
      "\n"
     ]
    }
   ],
   "source": [
    "Get-PSResourceRepository |format-List *"
   ]
  },
  {
   "cell_type": "markdown",
   "metadata": {},
   "source": [
    "## Call to Action\n",
    "\n",
    "### 1. Neueste Version von PSResourceget installieren"
   ]
  },
  {
   "cell_type": "code",
   "execution_count": null,
   "metadata": {
    "dotnet_interactive": {
     "language": "pwsh"
    },
    "polyglot_notebook": {
     "kernelName": "pwsh"
    }
   },
   "outputs": [],
   "source": [
    "Install-Module Microsoft.PowerShell.PSResourceGet"
   ]
  },
  {
   "cell_type": "markdown",
   "metadata": {},
   "source": [
    "### 2. Import der existierenden Repos in das neue Modul"
   ]
  },
  {
   "cell_type": "code",
   "execution_count": 20,
   "metadata": {
    "dotnet_interactive": {
     "language": "pwsh"
    },
    "polyglot_notebook": {
     "kernelName": "pwsh"
    }
   },
   "outputs": [
    {
     "name": "stdout",
     "output_type": "stream",
     "text": [
      "\u001b[93mVERBOSE: Found 1 registered PowerShellGet repositories.\u001b[0m\n",
      "\u001b[93mVERBOSE: Selected 0 NuGet repositories.\u001b[0m\n"
     ]
    }
   ],
   "source": [
    "Import-PSGetRepository -verbose"
   ]
  },
  {
   "cell_type": "markdown",
   "metadata": {},
   "source": [
    "### 3. Scripts auf PSResource ändern\n",
    "\n",
    "... und den Muskelspeicher ;-)"
   ]
  },
  {
   "cell_type": "markdown",
   "metadata": {},
   "source": [
    "## Links und Infos\n",
    "\n",
    "- [Official PowerShell Engineering Team Blog](https://devblogs.microsoft.com/powershell/psresourceget-is-generally-available/)\n",
    "- [GitHub Repo](https://github.com/PowerShell/PSResourceGet)\n",
    "- [YouTube video from Sydney Smith](https://www.youtube.com/watch?v=aoZjKRmgpqY)\n",
    "- [Microsoft Learn](https://learn.microsoft.com/de-de/powershell/module/microsoft.powershell.psresourceget/?view=powershellget-3.x)\n"
   ]
  }
 ],
 "metadata": {
  "kernelspec": {
   "display_name": ".NET (PowerShell)",
   "language": "PowerShell",
   "name": ".net-pwsh"
  },
  "language_info": {
   "name": "polyglot-notebook"
  },
  "polyglot_notebook": {
   "kernelInfo": {
    "defaultKernelName": "pwsh",
    "items": [
     {
      "aliases": [],
      "languageName": "pwsh",
      "name": "pwsh"
     }
    ]
   }
  }
 },
 "nbformat": 4,
 "nbformat_minor": 2
}
